{
 "cells": [
  {
   "cell_type": "code",
   "execution_count": null,
   "id": "58258e22-3949-461a-bf03-397bdde845ff",
   "metadata": {},
   "outputs": [],
   "source": [
    "import numpy as np \n",
    "import pandas as pd \n"
   ]
  },
  {
   "cell_type": "code",
   "execution_count": null,
   "id": "72f515b0-2552-4db7-9dc4-5a5c95337f0c",
   "metadata": {},
   "outputs": [],
   "source": [
    "movies = pd.read_csv('/kaggle/input/tmdb-movie-metadata/tmdb_5000_movies.csv')\n",
    "credits = pd.read_csv('/kaggle/input/tmdb-movie-metadata/tmdb_5000_credits.csv') "
   ]
  },
  {
   "cell_type": "code",
   "execution_count": null,
   "id": "18c1d6fb-2a0c-469c-9ef5-6766715a10b7",
   "metadata": {},
   "outputs": [],
   "source": [
    "!git init\n",
    "!git remote add origin https://github.com/abrajput22/movie-recommender.git\n",
    "!git add your_notebook.ipynb\n",
    "!git commit -m \"Added notebook from Jupyter\"\n",
    "!git branch -M main\n",
    "!git push -u origin main\n"
   ]
  }
 ],
 "metadata": {
  "kernelspec": {
   "display_name": "Python (pandas_env)",
   "language": "python",
   "name": "pandas_env"
  },
  "language_info": {
   "codemirror_mode": {
    "name": "ipython",
    "version": 3
   },
   "file_extension": ".py",
   "mimetype": "text/x-python",
   "name": "python",
   "nbconvert_exporter": "python",
   "pygments_lexer": "ipython3",
   "version": "3.12.3"
  }
 },
 "nbformat": 4,
 "nbformat_minor": 5
}
